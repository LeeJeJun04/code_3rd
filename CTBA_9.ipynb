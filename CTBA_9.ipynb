{
  "nbformat": 4,
  "nbformat_minor": 0,
  "metadata": {
    "colab": {
      "provenance": [],
      "authorship_tag": "ABX9TyNHwHT8+1q5CFcyRi9TjOCu",
      "include_colab_link": true
    },
    "kernelspec": {
      "name": "python3",
      "display_name": "Python 3"
    },
    "language_info": {
      "name": "python"
    }
  },
  "cells": [
    {
      "cell_type": "markdown",
      "metadata": {
        "id": "view-in-github",
        "colab_type": "text"
      },
      "source": [
        "<a href=\"https://colab.research.google.com/github/LeeJeJun04/code_3rd/blob/main/CTBA_9.ipynb\" target=\"_parent\"><img src=\"https://colab.research.google.com/assets/colab-badge.svg\" alt=\"Open In Colab\"/></a>"
      ]
    },
    {
      "cell_type": "markdown",
      "source": [
        "1. 두가지 이상의 선택 , 다방향의 선택"
      ],
      "metadata": {
        "id": "uohC3lkHMxjm"
      }
    },
    {
      "cell_type": "code",
      "source": [
        "print(\"배송료를 계산합니다.\")\n",
        "print(\"#\" * 30)\n",
        "\n",
        "price = int(input(\"구입금액 입력: \"))  # 사용자로부터 구입 금액을 정수형으로 입력받아 price 변수에 할당합니다.\n",
        "\n",
        "if price >= 100000:  # 만약 구입 금액이 100,000 이상이면 배송료를 0으로 설정합니다.\n",
        "    shipping_cost = 0\n",
        "else:\n",
        "    if price >= 20000:  # 만약 구입 금액이 20,000 이상이면 배송료를 3,000으로 설정합니다.\n",
        "        shipping_cost = 3000\n",
        "    else:  # 그 외의 경우에는 배송료를 5,000으로 설정합니다.\n",
        "        shipping_cost = 5000\n",
        "\n",
        "print(f'배송료는 {shipping_cost}입니다.')  # 배송료를 출력합니다.\n"
      ],
      "metadata": {
        "colab": {
          "base_uri": "https://localhost:8080/"
        },
        "id": "PF312wqaNATH",
        "outputId": "13a2107c-6fe1-4de1-bf9a-732b004bf451"
      },
      "execution_count": null,
      "outputs": [
        {
          "output_type": "stream",
          "name": "stdout",
          "text": [
            "배송료를 계산합니다.\n",
            "##############################\n",
            "구입금액 입력:15000\n",
            "배송료는5000입니다.\n"
          ]
        }
      ]
    },
    {
      "cell_type": "markdown",
      "source": [
        "2. 환영합니다. 5번 출력 , 10번 출력 ,30번 출력"
      ],
      "metadata": {
        "id": "ck8LDgf5OS6U"
      }
    },
    {
      "cell_type": "code",
      "source": [
        "print(\"환영합니다\")  #\"환영합니다\"라는 메시지를 5번 출력\n",
        "print(\"환영합니다\")\n",
        "print(\"환영합니다\")\n",
        "print(\"환영합니다\")\n",
        "print(\"환영합니다\")"
      ],
      "metadata": {
        "colab": {
          "base_uri": "https://localhost:8080/"
        },
        "id": "9tc8D0P4OccO",
        "outputId": "4e132133-246c-41e9-b582-984bdf442f5b"
      },
      "execution_count": null,
      "outputs": [
        {
          "output_type": "stream",
          "name": "stdout",
          "text": [
            "환영합니다\n",
            "환영합니다\n",
            "환영합니다\n",
            "환영합니다\n",
            "환영합니다\n"
          ]
        }
      ]
    },
    {
      "cell_type": "code",
      "source": [
        "count = 1  # count 변수를 1로 초기화합니다.\n",
        "\n",
        "while count <= 5:  # count가 5 이하인 동안 반복합니다.\n",
        "    # print(\"(\", count, \")\", \"환영합니다.\")  # count와 \"환영합니다.\"를 함께 출력합니다.\n",
        "    print(f'({count})', \"환영합니다\")  # f-string을 사용하여 count와 \"환영합니다.\"를 함께 출력합니다.\n",
        "    count = count + 1  # count 값을 1 증가시킵니다.\n",
        "    # count += 1  # count 값을 1 증가시킵니다."
      ],
      "metadata": {
        "colab": {
          "base_uri": "https://localhost:8080/"
        },
        "id": "05E5HhScSmC7",
        "outputId": "337aa335-84a9-4bda-96b5-cbff89fc77ce"
      },
      "execution_count": null,
      "outputs": [
        {
          "output_type": "stream",
          "name": "stdout",
          "text": [
            "(1) 환영합니다\n",
            "(2) 환영합니다\n",
            "(3) 환영합니다\n",
            "(4) 환영합니다\n",
            "(5) 환영합니다\n"
          ]
        }
      ]
    },
    {
      "cell_type": "markdown",
      "source": [
        "3. 0부터 9까지 출력하기\n",
        "변수 X"
      ],
      "metadata": {
        "id": "CG789-9RUyoN"
      }
    },
    {
      "cell_type": "code",
      "source": [
        "x = 0  # x 변수를 0으로 초기화합니다.\n",
        "\n",
        "while x < 10:  # x가 10보다 작은 동안 반복합니다.\n",
        "    print(x, end=' ')  # x를 출력하고 공백으로 구분합니다.\n",
        "    x += 1  # x 값을 1 증가시킵니다."
      ],
      "metadata": {
        "colab": {
          "base_uri": "https://localhost:8080/"
        },
        "id": "8zR8ErmPU47_",
        "outputId": "2287902a-c16e-4c1f-eb12-6298ded74ce7"
      },
      "execution_count": null,
      "outputs": [
        {
          "output_type": "stream",
          "name": "stdout",
          "text": [
            "0 1 2 3 4 5 6 7 8 9 "
          ]
        }
      ]
    },
    {
      "cell_type": "markdown",
      "source": [
        "4. 1부터 10까지 정수의 합을 계산하여 출력하는 코드"
      ],
      "metadata": {
        "id": "14d_o9sTYbok"
      }
    },
    {
      "cell_type": "code",
      "source": [
        "x = 1  # x 변수를 1로 초기화합니다.\n",
        "total = 0  # total 변수를 0으로 초기화합니다.\n",
        "\n",
        "while x <= 10:  # x가 10 이하인 동안 반복합니다.\n",
        "    total = total + x  # total에 x 값을 더합니다.\n",
        "    x += 1  # x 값을 1 증가시킵니다.\n",
        "\n",
        "print(total)  # total 값을 출력합니다."
      ],
      "metadata": {
        "colab": {
          "base_uri": "https://localhost:8080/"
        },
        "id": "EL3-1JzGYhwl",
        "outputId": "f3c14221-88a1-4eb8-d6dd-dc23317e3dae"
      },
      "execution_count": null,
      "outputs": [
        {
          "output_type": "stream",
          "name": "stdout",
          "text": [
            "55\n"
          ]
        }
      ]
    },
    {
      "cell_type": "code",
      "source": [
        "x = 1  # x 변수를 1로 초기화합니다.\n",
        "\n",
        "while x <= 10:  # x가 10 이하인 동안 반복합니다.\n",
        "    print(x)  # x 값을 출력합니다.\n",
        "    x += 1  # x 값을 1 증가시킵니다."
      ],
      "metadata": {
        "colab": {
          "base_uri": "https://localhost:8080/"
        },
        "id": "kU-BPTk2Y2Zp",
        "outputId": "971e29bc-8d4a-4b70-c9dd-f795c7354e9e"
      },
      "execution_count": null,
      "outputs": [
        {
          "output_type": "stream",
          "name": "stdout",
          "text": [
            "1\n",
            "2\n",
            "3\n",
            "4\n",
            "5\n",
            "6\n",
            "7\n",
            "8\n",
            "9\n",
            "10\n"
          ]
        }
      ]
    },
    {
      "cell_type": "markdown",
      "source": [
        "5. 3-6-9 게임(3의 배수 판단): 3의 배수를 3으로 나누면 나머지가 0이 되므로(i mod 3)의 값이 0이면 박수를 출력, 아니면 숫자를 출력해주는 **코드작성**"
      ],
      "metadata": {
        "id": "LnFEtme3VrDs"
      }
    },
    {
      "cell_type": "markdown",
      "source": [
        " i = 0                        #변수 I는 0으로 선언\n",
        " while i <= 30:                # 반복문 while사용해서 i가 30보다 작거나 같을때\n",
        "  if i % 3 == 0:             # 만약 i값을 3으로 나눈 나머지가 0이면\n",
        "    print(\"박수\", end='')    # 박수를 출력하고 공백을 하나 만듦\n",
        "  else:                      #위의 것이 아니라\n",
        "    print(i, end=' ')           #i값만 출력하고 공백 하나 만듦\n",
        "  i += 1                     #변수 i값에 i와 1를 더해서 다시 변수 i에 선언"
      ],
      "metadata": {
        "id": "dpM_qFAeWCMq"
      }
    },
    {
      "cell_type": "code",
      "source": [
        "for num in range(1,):       #1부터 11까지의 숫자를 반복\n",
        "  if num % 3 == 0:            #숫자(num)을 3으로 나눈 나머지가 0인 경우\n",
        "    print(\"박수\", end=' ')    #박수를 출력하고 공백을 만듦\n",
        "  else:                     #그게 아니면\n",
        "    print(num, end=' ')     #숫자만 출력하고 공백 만듦"
      ],
      "metadata": {
        "colab": {
          "base_uri": "https://localhost:8080/"
        },
        "id": "ywbhmdTjZKPU",
        "outputId": "d72b6656-cff7-452f-d3f1-6bb248be0be2"
      },
      "execution_count": null,
      "outputs": [
        {
          "output_type": "stream",
          "name": "stdout",
          "text": [
            "박수 "
          ]
        }
      ]
    },
    {
      "cell_type": "markdown",
      "source": [
        "6. 팩토리얼 예상하는 코드 작성"
      ],
      "metadata": {
        "id": "1eSMtO6Gacru"
      }
    },
    {
      "cell_type": "code",
      "source": [
        "i = 3  # i 변수를 3으로 초기화합니다.\n",
        "factorial = 2  # factorial 변수를 2로 초기화합니다.\n",
        "\n",
        "while i <= 10:  # i가 10 이하인 동안 반복합니다.\n",
        "    factorial = factorial * i  # factorial에 i 값을 곱합니다.\n",
        "    i += 1  # i 값을 1 증가시킵니다.\n",
        "    print(factorial)  # factorial 값을 출력합니다."
      ],
      "metadata": {
        "colab": {
          "base_uri": "https://localhost:8080/"
        },
        "id": "JSozNU-qag_t",
        "outputId": "d9e21443-9bf1-4842-a850-3856d117971d"
      },
      "execution_count": null,
      "outputs": [
        {
          "output_type": "stream",
          "name": "stdout",
          "text": [
            "6\n",
            "24\n",
            "120\n",
            "720\n",
            "5040\n",
            "40320\n",
            "362880\n",
            "3628800\n"
          ]
        }
      ]
    },
    {
      "cell_type": "code",
      "source": [
        "num = int(input(\"팩토리얼 값 입력: \"))  # 사용자로부터 정수 값을 입력받아 num 변수에 저장합니다.\n",
        "factorial = 1  # factorial 변수를 1로 초기화합니다.\n",
        "\n",
        "while num >= 1:  # num이 1 이상인 동안 반복합니다.\n",
        "    factorial = factorial * num  # factorial에 num 값을 곱합니다.\n",
        "    num -= 1  # num 값을 1 감소시킵니다.\n",
        "\n",
        "print(\"계산된 팩토리얼 값은:\", factorial)  # 계산된 팩토리얼 값을 출력합니다."
      ],
      "metadata": {
        "colab": {
          "base_uri": "https://localhost:8080/"
        },
        "id": "u36ehTxya5Rx",
        "outputId": "4eff8200-b4fc-4579-d2f9-2200d60f71a3"
      },
      "execution_count": null,
      "outputs": [
        {
          "output_type": "stream",
          "name": "stdout",
          "text": [
            "팩토리얼 값 입력.4\n",
            "계산된 팩토리얼 값은 : 24\n"
          ]
        }
      ]
    }
  ]
}