{
  "nbformat": 4,
  "nbformat_minor": 0,
  "metadata": {
    "colab": {
      "provenance": [],
      "authorship_tag": "ABX9TyNxZpb2DiJPO17WBnCdpbTh",
      "include_colab_link": true
    },
    "kernelspec": {
      "name": "python3",
      "display_name": "Python 3"
    },
    "language_info": {
      "name": "python"
    }
  },
  "cells": [
    {
      "cell_type": "markdown",
      "metadata": {
        "id": "view-in-github",
        "colab_type": "text"
      },
      "source": [
        "<a href=\"https://colab.research.google.com/github/LeeJeJun04/code_3rd/blob/main/py231019.ipynb\" target=\"_parent\"><img src=\"https://colab.research.google.com/assets/colab-badge.svg\" alt=\"Open In Colab\"/></a>"
      ]
    },
    {
      "cell_type": "code",
      "execution_count": null,
      "metadata": {
        "id": "Wl3LOyFCuFBG"
      },
      "outputs": [],
      "source": []
    },
    {
      "cell_type": "markdown",
      "source": [
        "1. To -Do List를 작성하시오.\n",
        "  - 2023년 10월 19일 이제준\n",
        "  - (1) 09:20 도서관에서 책 빌리기\n",
        "  - (2) 11:10 컴퓨팅적사고와 기초코딩 수업\n",
        "  - (3) 13:00 점심식사\n",
        "  - (4) 14:10 교양수업\n",
        "  - (5) 16:00 파이썬 공부 및 레포트 작성\n",
        "  - (6) 17:40 저녁식사 및 집안일 돕기\n",
        "  - (7) 19:00 LoL하기\n"
      ],
      "metadata": {
        "id": "a52H7Jr_uM2h"
      }
    },
    {
      "cell_type": "code",
      "source": [
        "print (\"2023년 10월 19일 이제준\")\n",
        "print(\"09:20 도서관에서 책 빌리기\")\n",
        "print(\"11:10 컴퓨팅적사고와 기초코딩 수업\")\n",
        "print(\"13:00 점심식사\")\n",
        "print(\"14:10 교양수업\")\n",
        "print(\"16:00 파이썬 공부 및 레포트 작성\")\n",
        "print(\"17:40 저녁식사 및 집안일 돕기\")\n",
        "print(\"19:00 LoL하기\")\n"
      ],
      "metadata": {
        "colab": {
          "base_uri": "https://localhost:8080/"
        },
        "id": "1gy0Nd-3x4Tf",
        "outputId": "aadaeed9-ea71-4229-c840-08da76b75413"
      },
      "execution_count": 3,
      "outputs": [
        {
          "output_type": "stream",
          "name": "stdout",
          "text": [
            "2023년 10월 19일 이제준\n",
            "09:20 도서관에서 책 빌리기\n",
            "11:10 컴퓨팅적사고와 기초코딩 수업\n",
            "13:00 점심식사\n",
            "14:10 교양수업\n",
            "16:00 파이썬 공부 및 레포트 작성\n",
            "17:40 저녁식사 및 집안일 돕기\n",
            "19:00 LoL하기\n"
          ]
        }
      ]
    },
    {
      "cell_type": "markdown",
      "source": [
        "2. 인삿말 출력하기\n",
        " -  식사하셨습니까? 행님"
      ],
      "metadata": {
        "id": "WRrNH4LCwUgz"
      }
    },
    {
      "cell_type": "code",
      "source": [
        "print(\"식사하셨습니까? 행님\")"
      ],
      "metadata": {
        "colab": {
          "base_uri": "https://localhost:8080/"
        },
        "id": "vw13Q4Ocy9yB",
        "outputId": "e53cf506-ce71-4169-ff0c-e62bd8d22fbb"
      },
      "execution_count": 4,
      "outputs": [
        {
          "output_type": "stream",
          "name": "stdout",
          "text": [
            "식사하셨습니까? 행님\n"
          ]
        }
      ]
    },
    {
      "cell_type": "markdown",
      "source": [
        "3. 학생 4명의 국어점수를 입력받아서 아래와 같이 출력하시오.\n",
        " - 박보검: 90점\n",
        " - 션    : 92점\n",
        " - 도룡용: 80점\n",
        " - 차은우: 99점\n",
        " - 국어점수 순위\n",
        " - 1등 차은우\n",
        " - 2등 션\n",
        " - 3등 박보검\n",
        " - 4등 도룡용"
      ],
      "metadata": {
        "id": "D3U3D0qgwswJ"
      }
    },
    {
      "cell_type": "code",
      "source": [
        "print(\"국어점수\")\n",
        "n1 = int(input(\"박보검 점수를 입력하시오.\"))\n",
        "n2 = int(input(\"션 점수를 입력하시오.\"))\n",
        "n3 = int(input(\"도룡용 점수를 입력하시오.\"))\n",
        "n4 = int(input(\"차은우 점수를 입력하시오.\"))\n",
        "print(\"국어점수 순위\")\n",
        "n1 = (input(\"1등\"))\n",
        "n2 = (input(\"2등\"))\n",
        "n3 = (input(\"3등\"))\n",
        "n4 = (input(\"4등\"))\n"
      ],
      "metadata": {
        "colab": {
          "base_uri": "https://localhost:8080/"
        },
        "id": "xWnAv7OLzEti",
        "outputId": "24ba04cb-0818-4e58-c875-4b4b6551bf03"
      },
      "execution_count": 23,
      "outputs": [
        {
          "name": "stdout",
          "output_type": "stream",
          "text": [
            "국어점수\n",
            "박보검 점수를 입력하시오.90\n",
            "션 점수를 입력하시오.92\n",
            "도룡용 점수를 입력하시오.80\n",
            "차은우 점수를 입력하시오.99\n",
            "국어점수 순위\n",
            "1등차은우\n",
            "2등션\n",
            "3등박보검\n",
            "4등도룡용\n"
          ]
        }
      ]
    },
    {
      "cell_type": "markdown",
      "source": [
        "4. 두개의 점수를 입력받아서 합계와 평균을 출력하시오."
      ],
      "metadata": {
        "id": "9S6aXTxwxdcC"
      }
    },
    {
      "cell_type": "code",
      "source": [
        "n1 =int(input(\"첫번째 점수를 입력하시오.:\"))\n",
        "n2 =int(input(\"두번째 점수를 입력하시오.:\"))\n",
        "total=n1+n2\n",
        "print('합계는;',total)\n",
        "average=total/2\n",
        "print('평균은:',average)"
      ],
      "metadata": {
        "colab": {
          "base_uri": "https://localhost:8080/"
        },
        "id": "waXuhJoR6FDO",
        "outputId": "47e600a3-f5d7-4140-ea1c-2cd0d89704b9"
      },
      "execution_count": 19,
      "outputs": [
        {
          "output_type": "stream",
          "name": "stdout",
          "text": [
            "첫번째 점수를 입력하시오.:50\n",
            "두번째 점수를 입력하시오.:40\n",
            "합계는; 90\n",
            "평균은: 45.0\n"
          ]
        }
      ]
    },
    {
      "cell_type": "code",
      "source": [],
      "metadata": {
        "id": "nzo6dWr95fgu"
      },
      "execution_count": null,
      "outputs": []
    }
  ]
}