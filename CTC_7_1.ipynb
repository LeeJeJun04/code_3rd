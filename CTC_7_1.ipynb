{
  "nbformat": 4,
  "nbformat_minor": 0,
  "metadata": {
    "colab": {
      "provenance": [],
      "authorship_tag": "ABX9TyNlz5wJablgidwvwGzl2SHB",
      "include_colab_link": true
    },
    "kernelspec": {
      "name": "python3",
      "display_name": "Python 3"
    },
    "language_info": {
      "name": "python"
    }
  },
  "cells": [
    {
      "cell_type": "markdown",
      "metadata": {
        "id": "view-in-github",
        "colab_type": "text"
      },
      "source": [
        "<a href=\"https://colab.research.google.com/github/LeeJeJun04/code_3rd/blob/main/CTC_7_1.ipynb\" target=\"_parent\"><img src=\"https://colab.research.google.com/assets/colab-badge.svg\" alt=\"Open In Colab\"/></a>"
      ]
    },
    {
      "cell_type": "markdown",
      "source": [
        "1. 사용자로부터 3개의 값(x,y,z)을 입력받아서 각각 1씩 증가되고,출력되는 코드"
      ],
      "metadata": {
        "id": "H3cPG-PQG7id"
      }
    },
    {
      "cell_type": "code",
      "execution_count": null,
      "metadata": {
        "colab": {
          "base_uri": "https://localhost:8080/"
        },
        "id": "OwEZgKyZGvXG",
        "outputId": "e6318ce9-6034-4dcf-9e31-8caddd663304"
      },
      "outputs": [
        {
          "output_type": "stream",
          "name": "stdout",
          "text": [
            "x의 값을 입력하시오1\n",
            "y의 값을 입력하시오2\n",
            "z의 값을 입력하시오3\n",
            "x의 값은2이며,y의 값은3이고,z의 값은4이다.\n"
          ]
        }
      ],
      "source": [
        "x = int(input(\"x의 값을 입력하시오\"))  # 사용자로부터 x의 값을 입력받아 정수로 변환하여 x에 할당합니다.\n",
        "y = int(input(\"y의 값을 입력하시오\"))  # 사용자로부터 y의 값을 입력받아 정수로 변환하여 y에 할당합니다.\n",
        "z = int(input(\"z의 값을 입력하시오\"))  # 사용자로부터 z의 값을 입력받아 정수로 변환하여 z에 할당합니다.\n",
        "\n",
        "x = x + 1  # x의 값을 1 증가시킵니다.\n",
        "y = y + 1  # y의 값을 1 증가시킵니다.\n",
        "z = z + 1  # z의 값을 1 증가시킵니다.\n",
        "\n",
        "print(f'x의 값은 {x}이며, y의 값은 {y}이고, z의 값은 {z}입니다.')  # 현재 x, y, z의 값을 출력합니다."
      ]
    },
    {
      "cell_type": "markdown",
      "source": [
        "2. 알바생의 시급과 시간을 계산하여 월급을 출력하는 코드"
      ],
      "metadata": {
        "id": "kdRAwJS4JTfF"
      }
    },
    {
      "cell_type": "code",
      "source": [
        "hours_worked = int(input(\"일한 시간을 입력하시오.\"))  # 사용자로부터 일한 시간을 입력받아 정수로 변환하여 hours_worked에 할당합니다.\n",
        "pay_rate = int(input(\"시급을 입력하시오.(23기준 9620):\"))  # 사용자로부터 시급을 입력받아 정수로 변환하여 pay_rate에 할당합니다. (23기준 9620)\n",
        "\n",
        "monthly_pay = hours_worked * pay_rate  # 일한 시간과 시급을 곱하여 월급을 계산하여 monthly_pay에 할당합니다.\n",
        "\n",
        "print(f'일한 시간은 {hours_worked}시간이고, 시급은 {pay_rate}원이며, 월급은 {monthly_pay}입니다.')  # 일한 시간, 시급, 월급을 출력합니다."
      ],
      "metadata": {
        "colab": {
          "base_uri": "https://localhost:8080/"
        },
        "id": "Lphje8BBJeAg",
        "outputId": "08697e66-15f2-4a27-9c6b-f14f569595f0"
      },
      "execution_count": null,
      "outputs": [
        {
          "output_type": "stream",
          "name": "stdout",
          "text": [
            "일한 시간을 입력시오.10\n",
            "시급을 입력하시오.(23기준 9620):9620\n",
            "일한시간은10시간이고, 시급은9620원이며, 월급은96200입니다.\n"
          ]
        }
      ]
    },
    {
      "cell_type": "markdown",
      "source": [
        "3. 한율 계산하는 코드 작성\n",
        " - 원의 변수는 won\n",
        " - 달러의 변수는 usd\n",
        " - 환전의 변수는 exchange"
      ],
      "metadata": {
        "id": "jRnt76lMLmMR"
      }
    },
    {
      "cell_type": "code",
      "source": [
        "won = float(input(\"환전할 금액을 입력하세요: \"))  # 사용자로부터 환전할 금액을 입력받아 실수로 변환하여 won 변수에 할당합니다.\n",
        "exchange = float(input(\"현재 달러의 환율을 입력하세요: \"))  # 사용자로부터 달러의 환율을 입력받아 실수로 변환하여 exchange 변수에 할당합니다.\n",
        "\n",
        "usd = won * exchange  # 환전할 금액(won)과 환율(exchange)을 곱하여 환전금액(usd)을 계산합니다.\n",
        "\n",
        "print(f'환전할 금액은 {won}원이며, 달러 환율은 {exchange}이며, 환전금액은 {usd}달러입니다.')  # 환전할 금액, 달러 환율, 환전금액을 출력합니다."
      ],
      "metadata": {
        "id": "-y6KUJ6SHyQj"
      },
      "execution_count": null,
      "outputs": []
    },
    {
      "cell_type": "markdown",
      "source": [
        "4. 화씨(fahrenheit)를 섭씨(celcius)로 변환하는 코드\n"
      ],
      "metadata": {
        "id": "jHZnj_9YOW_2"
      }
    },
    {
      "cell_type": "code",
      "source": [
        "fahrenheit = int(input(\"화씨 온도를 입력하시오: \"))  # 사용자로부터 화씨 온도를 입력받아 정수로 변환하여 fahrenheit 변수에 할당합니다.\n",
        "\n",
        "celcius = (fahrenheit - 32) / 1.8  # 입력받은 화씨 온도를 섭씨 온도로 변환하여 celcius 변수에 할당합니다.\n",
        "\n",
        "print(f'화씨 온도 {fahrenheit}, 섭씨 {celcius}입니다.')  # 입력받은 화씨 온도와 변환된 섭씨 온도를 출력합니다."
      ],
      "metadata": {
        "colab": {
          "base_uri": "https://localhost:8080/"
        },
        "id": "18sqC7_ROpUv",
        "outputId": "da20caf9-4fc9-47dd-eba4-98c9d60cfbe1"
      },
      "execution_count": null,
      "outputs": [
        {
          "output_type": "stream",
          "name": "stdout",
          "text": [
            "화씨온도를 입력하시오.:100\n",
            "화씨 온도 100, 섭씨37.77777777777778입니다.\n"
          ]
        }
      ]
    },
    {
      "cell_type": "code",
      "source": [
        "celcius = float(input(\"섭씨 온도를 입력하시오: \"))  # 사용자로부터 섭씨 온도를 입력받아 실수로 변환하여 celcius 변수에 할당합니다.\n",
        "\n",
        "fahrenheit = (celcius * 1.8) + 32  # 입력받은 섭씨 온도를 화씨 온도로 변환하여 fahrenheit 변수에 할당합니다.\n",
        "\n",
        "print(f'섭씨 온도 {celcius}, 화씨 온도 {fahrenheit}입니다.')  # 입력받은 섭씨 온도와 변환된 화씨 온도를 출력합니다."
      ],
      "metadata": {
        "colab": {
          "base_uri": "https://localhost:8080/"
        },
        "id": "L-rnF-6fPsk4",
        "outputId": "55ac8dec-0303-478e-88fe-0f975f4a60ee"
      },
      "execution_count": null,
      "outputs": [
        {
          "output_type": "stream",
          "name": "stdout",
          "text": [
            "섭씨온도를 입력하시오.:37.77777777777778\n",
            "섭씨 온도 37.77777777777778, 섭씨100.0입니다.\n"
          ]
        }
      ]
    },
    {
      "cell_type": "markdown",
      "source": [
        "#3 사용자로부터 2개의 정수를 받아서 합계를 출력"
      ],
      "metadata": {
        "id": "0xMyoC4xU3NW"
      }
    },
    {
      "cell_type": "code",
      "source": [
        "x = int(input(\"x의 값을 입력하시오: \"))  # 사용자로부터 x의 값을 입력받아 정수로 변환하여 x 변수에 할당합니다.\n",
        "y = int(input(\"y의 값을 입력하시오: \"))  # 사용자로부터 y의 값을 입력받아 정수로 변환하여 y 변수에 할당합니다.\n",
        "\n",
        "sum = x + y  # x와 y의 값을 더하여 합을 계산하여 sum 변수에 할당합니다.\n",
        "\n",
        "print(f'x는 {x}이고, y는 {y}이며, 두 수의 합은 {sum}이다.')  # x, y의 값과 두 수의 합을 출력합니다."
      ],
      "metadata": {
        "colab": {
          "base_uri": "https://localhost:8080/"
        },
        "id": "JJOFHDbKWgUO",
        "outputId": "12b1b24a-469a-4a53-ab9d-7d05c7b6d323"
      },
      "execution_count": null,
      "outputs": [
        {
          "output_type": "stream",
          "name": "stdout",
          "text": [
            "x의 값을 입력하시오.5\n",
            "y의 값을 입력하시오.10\n",
            "x는 5이고, y는10이며, 두 수의 합은 15이다.\n"
          ]
        }
      ]
    },
    {
      "cell_type": "markdown",
      "source": [
        "#4 부가세 계산\n"
      ],
      "metadata": {
        "id": "ULK7ZC_DWjk-"
      }
    },
    {
      "cell_type": "code",
      "source": [
        "price = int(input(\"상품의 가격을 입력하시오: \"))  # 사용자로부터 상품의 가격을 입력받아 정수로 변환하여 price 변수에 할당합니다.\n",
        "\n",
        "vat = price * 0.1  # 입력받은 상품의 가격에 0.1을 곱하여 부가세를 계산하여 vat 변수에 할당합니다.\n",
        "\n",
        "print(f'상품의 가격은 {price}원이고, 상품의 부가세는 {vat}원이다.')  # 상품의 가격과 부가세를 출력합니다."
      ],
      "metadata": {
        "colab": {
          "base_uri": "https://localhost:8080/"
        },
        "id": "9TcLI6A1Wooe",
        "outputId": "9d797a2e-e295-40f5-98a8-0a9e135f91c6"
      },
      "execution_count": null,
      "outputs": [
        {
          "output_type": "stream",
          "name": "stdout",
          "text": [
            "상품의 가격을 입력하시오.5000\n",
            "상품의 가격은5000원이고, 상품의 부가세는500.0원이다.\n"
          ]
        }
      ]
    },
    {
      "cell_type": "markdown",
      "source": [],
      "metadata": {
        "id": "b0A9tcu9G5eH"
      }
    }
  ]
}