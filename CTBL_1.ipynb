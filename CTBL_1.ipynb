{
  "nbformat": 4,
  "nbformat_minor": 0,
  "metadata": {
    "colab": {
      "provenance": [],
      "authorship_tag": "ABX9TyPTIkfU0jtX18Pn3AMq03gk",
      "include_colab_link": true
    },
    "kernelspec": {
      "name": "python3",
      "display_name": "Python 3"
    },
    "language_info": {
      "name": "python"
    }
  },
  "cells": [
    {
      "cell_type": "markdown",
      "metadata": {
        "id": "view-in-github",
        "colab_type": "text"
      },
      "source": [
        "<a href=\"https://colab.research.google.com/github/LeeJeJun04/code_3rd/blob/main/CTBL_1.ipynb\" target=\"_parent\"><img src=\"https://colab.research.google.com/assets/colab-badge.svg\" alt=\"Open In Colab\"/></a>"
      ]
    },
    {
      "cell_type": "markdown",
      "source": [
        "1. 학생으로부터 성적을 입력 받아 합격유무를 출력하는 코드작성\n",
        " - 사용변수: Grade\n",
        " - 사용수식: Grade >=70:\n"
      ],
      "metadata": {
        "id": "yIM0eJkA1RnN"
      }
    },
    {
      "cell_type": "code",
      "source": [
        "Grade = int(input(\"성적입력: \"))\n",
        "if Grade >=70:\n",
        "  print(\"70점 이상은 합격\")\n",
        "else:\n",
        "    print(\"70점 이하는 불합격\")"
      ],
      "metadata": {
        "colab": {
          "base_uri": "https://localhost:8080/"
        },
        "id": "fFHuPfHc1ma1",
        "outputId": "17193cf7-0e38-44ac-b8f8-6ff85e5f213e"
      },
      "execution_count": 15,
      "outputs": [
        {
          "output_type": "stream",
          "name": "stdout",
          "text": [
            "성적입력: 70\n",
            "70점 이상은 합격\n"
          ]
        }
      ]
    },
    {
      "cell_type": "markdown",
      "source": [],
      "metadata": {
        "id": "xh6pAuQL3dxk"
      }
    },
    {
      "cell_type": "markdown",
      "source": [
        "2. 쇼핑몰의 배송료를 계산하는 코드작성\n",
        " - 변수는 : price,shipping_cost\n",
        " - 수식 : price >= 20000\n",
        " - shipping_cost = 3000"
      ],
      "metadata": {
        "id": "3kel61333rk3"
      }
    },
    {
      "cell_type": "code",
      "source": [
        "price = int(input(\"구입 금액 입력: \"))\n",
        "if price >= 20000:\n",
        "  shipping_cost = 0\n",
        "  print(f'구입 금액이 {price}원 이상입니다.')\n",
        "else:\n",
        "    shipping_cost =3000\n",
        "    print(\"구입금액이 2만원 이하입니다.\")\n",
        "    print(f'회원님의 배송료는 {shipping_cost}원 입니다.')"
      ],
      "metadata": {
        "colab": {
          "base_uri": "https://localhost:8080/"
        },
        "id": "0_yABaQE42Wb",
        "outputId": "7a2c772b-1227-40fe-a65d-85f5a6941bec"
      },
      "execution_count": 14,
      "outputs": [
        {
          "output_type": "stream",
          "name": "stdout",
          "text": [
            "구입 금액 입력: 20000\n",
            "구입 금액이 20000원 이상입니다.\n"
          ]
        }
      ]
    },
    {
      "cell_type": "markdown",
      "source": [
        "3. 근무시간에 따라 초과근무와 정상근무를 판별하는 코드작성\n",
        "- 변수 : work_hour\n",
        "- 수식 : >= , 기준시간:72시간"
      ],
      "metadata": {
        "id": "1btkHmPI8BPs"
      }
    },
    {
      "cell_type": "code",
      "source": [
        "work_hour = int(input(\"근무시간 입력\"))\n",
        "if work_hour >= 72:\n",
        "  print(\"초과근무 하였습니다\")\n",
        "else:\n",
        "  print(\"정상근무 하셨습니다\")"
      ],
      "metadata": {
        "colab": {
          "base_uri": "https://localhost:8080/"
        },
        "id": "0T-hruMD8bb8",
        "outputId": "01f2c83d-6a20-4665-be62-44b07800730b"
      },
      "execution_count": 26,
      "outputs": [
        {
          "output_type": "stream",
          "name": "stdout",
          "text": [
            "근무시간 입력72\n",
            "초과근무 하였습니다\n"
          ]
        }
      ]
    },
    {
      "cell_type": "markdown",
      "source": [
        "4. 정수를 입력받아서 짝수인지 홀수인지 판별하는 코드 작성\n",
        "- 변수:num\n",
        "-수식 : (num %2) !=0:"
      ],
      "metadata": {
        "id": "VpqXgK8s-CXL"
      }
    },
    {
      "cell_type": "code",
      "source": [
        "num = int(input(\"정수를 입력하시오.\"))\n",
        "if (num%2) != 0:\n",
        "  print(\"홀수입니다.\")\n",
        "else:\n",
        "  print(\"짝수입니다.\")"
      ],
      "metadata": {
        "colab": {
          "base_uri": "https://localhost:8080/"
        },
        "id": "SnD2app_-VOZ",
        "outputId": "6e6931f0-365c-4d8c-d49b-d0ae88b25479"
      },
      "execution_count": 19,
      "outputs": [
        {
          "output_type": "stream",
          "name": "stdout",
          "text": [
            "정수를 입력하시오.5\n",
            "홀수입니다.\n"
          ]
        }
      ]
    },
    {
      "cell_type": "markdown",
      "source": [
        "5. 사용자의 이름과 나이를 입력받고, 답변하는 코드 작성\n",
        "- 입력: 성명 - name\n",
        "- 입력: 나이 - age\n",
        "- 수식: if age <= 20:\n",
        "\n",
        "  최종출력물\n",
        "  - 이름을 입력하시오\n",
        "  - 나이를 입력하시오\n",
        "  - (1) 프로그래밍을 배우는 최적의 나이입니다\n",
        "  - (2) 아직 늦지 않은 나이입니다."
      ],
      "metadata": {
        "id": "XP9NWIqKApBJ"
      }
    },
    {
      "cell_type": "code",
      "source": [
        "input(\"이름을 입력하시오.\")\n",
        "age = int(input(\"나이를 입력하시오.\"))\n",
        "if age <= 20:\n",
        "  print(\"프로그래밍을 배우는 최적의 나이입니다.\")\n",
        "else:\n",
        "  print(\"아직 늦지 않은 나이입니다.\")"
      ],
      "metadata": {
        "colab": {
          "base_uri": "https://localhost:8080/"
        },
        "id": "1pdAJdfuBa4I",
        "outputId": "400b85ef-8a36-46e3-ecc4-18557d3389ff"
      },
      "execution_count": 32,
      "outputs": [
        {
          "output_type": "stream",
          "name": "stdout",
          "text": [
            "이름을 입력하시오.이제준\n",
            "나이를 입력하시오.20\n",
            "프로그래밍을 배우는 최적의 나이입니다.\n"
          ]
        }
      ]
    },
    {
      "cell_type": "code",
      "source": [
        "import random  # 랜덤 모듈을 가져옵니다.\n",
        "\n",
        "def generate_lotto_numbers():  # 로또 번호를 생성하는 함수를 정의합니다.\n",
        "    return random.sample(range(1, 46), 6)  # 1부터 45까지의 숫자 중에서 랜덤하게 6개를 선택합니다.\n",
        "\n",
        "lotto_numbers = generate_lotto_numbers()  # 로또 번호를 생성합니다.\n",
        "lotto_numbers.sort()  # 생성된 로또 번호를 정렬합니다.\n",
        "\n",
        "print(lotto_numbers)  # 생성된 로또 번호를 출력합니다\n"
      ],
      "metadata": {
        "colab": {
          "base_uri": "https://localhost:8080/"
        },
        "id": "PdTF8l0MFAeU",
        "outputId": "75147e9e-b511-42b7-f87e-ada6ecce694c"
      },
      "execution_count": 33,
      "outputs": [
        {
          "output_type": "stream",
          "name": "stdout",
          "text": [
            "[5, 12, 14, 16, 22, 31]\n"
          ]
        }
      ]
    },
    {
      "cell_type": "code",
      "source": [
        "# 사용자로부터 이름과 나이를 입력받는 코드입니다.\n",
        "name = input(\"이름을 입력해주세요: \")  # 이름을 입력받습니다.\n",
        "age = int(input(\"나이를 입력해주세요: \"))  # 나이를 입력받습니다. 입력받은 나이는 문자열 형태이므로 int로 변환해줍니다.\n",
        "\n",
        "# 입력받은 나이에 따라 다른 메시지를 출력하는 코드입니다.\n",
        "if age <= 20:  # 나이가 20살 이하인 경우\n",
        "    print(f\"{name}님, 프로그래밍을 배우기 최적의 나이입니다.\")  # 이름을 포함한 메시지를 출력합니다.\n",
        "else:  # 나이가 20살을 초과하는 경우\n",
        "    print(f\"{name}님, 아직 늦지 않았습니다. 화이팅!\")  # 이름을 포함한 메시지를 출력합니다.\n",
        ""
      ],
      "metadata": {
        "colab": {
          "base_uri": "https://localhost:8080/"
        },
        "id": "XA3WHxolGlmJ",
        "outputId": "aa6d67de-3579-43e4-8774-7e8afe94eab0"
      },
      "execution_count": 34,
      "outputs": [
        {
          "output_type": "stream",
          "name": "stdout",
          "text": [
            "이름을 입력해주세요: 이제준\n",
            "나이를 입력해주세요: 20\n",
            "이제준님, 프로그래밍을 배우기 최적의 나이입니다.\n"
          ]
        }
      ]
    }
  ]
}